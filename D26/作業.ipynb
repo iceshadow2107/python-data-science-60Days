{
 "cells": [
  {
   "cell_type": "markdown",
   "metadata": {
    "id": "H-z4L8J371GO"
   },
   "source": [
    "## 作業:\n",
    "今天學到不同統計量之間特性，  \n",
    "試著分析男生女生身高資料，  \n",
    "試著回答下面的問題:  \n",
    "Q1:試著用今天所教的內容，如何描述這兩組資料的樣態?    \n",
    "Q2: 請問男生和女生在平均身高上誰比較高?   \n",
    "Q3:請問第二題的答案和日常生活中觀察的一致嗎? 如果不一致，你覺得原因可能為何?    \n",
    "上述問題透過  python 語法進行運算，\n",
    "並將上述答案填寫在 (google 表單)[https://docs.google.com/forms/d/e/1FAIpQLSdDzwpeJl8YLPwZaW8pBZvtuXY9kIbbZLqxcXyzFaoraV5JEA/viewform ]\n",
    "![](作業資料圖檔.PNG)"
   ]
  },
  {
   "cell_type": "code",
   "execution_count": 2,
   "metadata": {
    "id": "yz28_IgkYdBW"
   },
   "outputs": [],
   "source": [
    "# library\n",
    "import matplotlib.pyplot as plt\n",
    "import numpy as np\n",
    "import pandas as pd\n",
    "from scipy import stats\n",
    "import math\n",
    "import statistics\n",
    "import seaborn as sns"
   ]
  },
  {
   "cell_type": "code",
   "execution_count": 3,
   "metadata": {
    "id": "3NtzuWtt71GU",
    "outputId": "be21c4eb-a6c2-4674-aadd-d378bafc0428"
   },
   "outputs": [],
   "source": [
    "## 輸入資料\n",
    "boys=[164, 176, 169, 169, 165, 175, 159, 151, 144, 160, 183, 165, 156, 170,\n",
    " 164, 173, 165, 163, 177, 171]\n",
    "girls=[169, 183, 170, 168, 182, 170, 173, 185, 151, 156, 162, 169, 162, 181, 159, 154, 167, 175, 170, 160]"
   ]
  },
  {
   "cell_type": "code",
<<<<<<< HEAD
   "execution_count": 4,
=======
   "execution_count": 11,
>>>>>>> bbf58884b3af8672b087a65a61f27e8401a432ab
   "metadata": {
    "id": "xH_GNsC271GW",
    "outputId": "f4b4c46a-0d8b-421c-9c70-0ebf2aab0e31"
   },
   "outputs": [
    {
     "name": "stdout",
     "output_type": "stream",
     "text": [
      "男孩身高平均= 165.95\n",
      "女生身高平均= 168.3\n"
     ]
    }
   ],
   "source": [
    "#男生平均身高\n",
    "mean_boy=np.mean(boys)\n",
    "print(\"男孩身高平均=\",mean_boy)\n",
    "\n",
    "#女生平均身高\n",
    "mean_girl = np.mean(girls)\n",
    "print(\"女生身高平均=\", mean_girl)"
   ]
  },
  {
   "cell_type": "code",
   "execution_count": 5,
   "metadata": {
    "id": "uDM9AzrY71GW",
    "outputId": "f4e7ede3-fda9-4858-f122-af7c3b3f3ad4"
   },
   "outputs": [
    {
     "name": "stdout",
     "output_type": "stream",
     "text": [
      "男生身高中位數= 165.0\n",
      "女生身高中位數= 169.0\n"
     ]
    }
   ],
   "source": [
    "#Q1:試著用今天所教的內容，如何描述這兩組資料的樣態?\n",
    "#暗示:  分別計算男生和女生的統計量\n",
    "\n",
    "#集中趨勢：中位數\n",
    "\n",
    "#男生身高中位數\n",
    "np_median_boy=np.median(boys,axis=None)\n",
    "print(\"男生身高中位數=\",np_median_boy)\n",
    "\n",
    "#女生身高中位數\n",
    "np_median_girl=np.median(girls,axis=None)\n",
    "print(\"女生身高中位數=\",np_median_girl)"
   ]
  },
  {
   "cell_type": "code",
   "execution_count": 6,
   "metadata": {},
   "outputs": [
    {
     "name": "stdout",
     "output_type": "stream",
     "text": [
      "男生身高眾數= 165\n",
      "女生身高眾數= 170\n"
     ]
    }
   ],
   "source": [
    "# 統計量_眾數(男)\n",
    "statistics_mode_boy=statistics.mode(boys)\n",
    "print(\"男生身高眾數=\",statistics_mode_boy)\n",
    "\n",
    "# 統計量_眾數(女)\n",
    "statistics_mode_girl=statistics.mode(girls)\n",
    "print(\"女生身高眾數=\",statistics_mode_girl)"
   ]
  },
  {
   "cell_type": "code",
<<<<<<< HEAD
=======
   "execution_count": 13,
   "metadata": {},
   "outputs": [
    {
     "name": "stdout",
     "output_type": "stream",
     "text": [
      "男孩身高全距= 39\n",
      "女孩身高全距= 34\n"
     ]
    }
   ],
   "source": [
    "#計算全距:\n",
    "def rangeV(x): \n",
    "  return(max(x)-min(x))\n",
    "    \n",
    "print(\"男孩身高全距=\",rangeV(boys))\n",
    "print(\"女孩身高全距=\",rangeV(girls))"
   ]
  },
  {
   "cell_type": "code",
>>>>>>> bbf58884b3af8672b087a65a61f27e8401a432ab
   "execution_count": 7,
   "metadata": {},
   "outputs": [
    {
     "name": "stdout",
     "output_type": "stream",
     "text": [
      "男孩身高變異數= 84.89210526315789\n",
      "女孩身高變異數= 95.37894736842105\n"
     ]
    }
   ],
   "source": [
    "# 計算變異數的方法\n",
    "print(\"男孩身高變異數=\",statistics.variance(boys))\n",
    "print(\"女孩身高變異數=\",statistics.variance(girls))"
   ]
  },
  {
   "cell_type": "code",
   "execution_count": 8,
   "metadata": {},
   "outputs": [
    {
     "name": "stdout",
     "output_type": "stream",
     "text": [
      "男生身高標準差= 9.213691185575838\n",
      "女生身高標準差= 9.766214587465353\n"
     ]
    }
   ],
   "source": [
    "# 統計量_標準差的方法\n",
    "#樣本標準差\n",
    "#ddof=1, 回傳 sample standard deviation 樣本標準差，分母(n-1)，無偏估計\n",
    "statistics_stdev_boy=statistics.stdev(boys)\n",
    "print(\"男生身高標準差=\",statistics_stdev_boy)\n",
    "statistics_stdev_girl=statistics.stdev(girls)\n",
    "print(\"女生身高標準差=\",statistics_stdev_girl)"
   ]
  },
  {
   "cell_type": "code",
   "execution_count": 9,
   "metadata": {},
   "outputs": [
    {
     "name": "stdout",
     "output_type": "stream",
     "text": [
      "男90百分位數= 176.1\n",
      "男50百分位數= 165.0\n",
      "男20百分位數= 159.8\n",
      "女90百分位數= 182.1\n",
      "女50百分位數= 169.0\n",
      "女20百分位數= 159.8\n"
     ]
    }
   ],
   "source": [
    "# python 百分位數(男)\n",
    "#np\n",
    "print(\"男90百分位數=\",np.percentile(boys, 90))\n",
    "print(\"男50百分位數=\",np.percentile(boys, 50))\n",
    "print(\"男20百分位數=\",np.percentile(boys, 20))\n",
    "\n",
    "# python 百分位數(女)\n",
    "#np\n",
    "print(\"女90百分位數=\",np.percentile(girls, 90))\n",
    "print(\"女50百分位數=\",np.percentile(girls, 50))\n",
    "print(\"女20百分位數=\",np.percentile(girls, 20))"
   ]
  },
  {
   "cell_type": "code",
<<<<<<< HEAD
   "execution_count": 10,
=======
   "execution_count": 14,
   "metadata": {},
   "outputs": [
    {
     "name": "stdout",
     "output_type": "stream",
     "text": [
      "男孩身高偏度= -0.47132127317376954\n",
      "男孩身高峰度= 0.19395882957876331\n",
      "女孩身高偏度= 0.05985321129365068\n",
      "女孩身高峰度= -0.8203607083948947\n"
     ]
    }
   ],
   "source": [
    "#計算峰度和偏度\n",
    "print(\"男孩身高偏度=\",stats.skew(boys))\n",
    "print(\"男孩身高峰度=\",stats.kurtosis(boys))\n",
    "\n",
    "print(\"女孩身高偏度=\",stats.skew(girls))\n",
    "print(\"女孩身高峰度=\",stats.kurtosis(girls))"
   ]
  },
  {
   "cell_type": "code",
   "execution_count": 12,
>>>>>>> bbf58884b3af8672b087a65a61f27e8401a432ab
   "metadata": {
    "scrolled": true
   },
   "outputs": [
    {
     "data": {
      "image/png": "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\n",
      "text/plain": [
       "<Figure size 432x288 with 1 Axes>"
      ]
     },
     "metadata": {
      "needs_background": "light"
     },
     "output_type": "display_data"
    },
    {
     "data": {
<<<<<<< HEAD
      "image/png": "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\n",
=======
      "image/png": "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\n",
>>>>>>> bbf58884b3af8672b087a65a61f27e8401a432ab
      "text/plain": [
       "<Figure size 432x288 with 1 Axes>"
      ]
     },
     "metadata": {
      "needs_background": "light"
     },
     "output_type": "display_data"
    }
   ],
   "source": [
    "# pandas和 stat 接近\n",
    "# python的峰帶\n",
    "\n",
    "#畫圖看分布\n",
    "#男生身高長條圖\n",
    "plt.hist(boys,alpha=.4,bins=40)\n",
    "#計算峰度和偏度\n",
    "plt.title('boy,skewness={0},kurtosis={1}'.format(round(stats.skew(boys),2),round(stats.kurtosis(boys),2)))\n",
    "plt.axvline(x=mean_boy)\n",
    "plt.show()\n",
    "#女生身高長條圖\n",
<<<<<<< HEAD
    "plt.hist(girls,alpha=.4,bins=40)\n",
    "#計算峰度和偏度\n",
    "plt.title('girl,skewness={0},kurtosis={1}'.format(round(stats.skew(girls),2),round(stats.kurtosis(girls),2)))\n",
    "plt.axvline(x=mean_girl)\n",
=======
    "plt.hist(girls,alpha=.4,bins=40, color=sns.desaturate(\"indianred\", .8))\n",
    "#計算峰度和偏度\n",
    "plt.title('girl,skewness={0},kurtosis={1}'.format(round(stats.skew(girls),2),round(stats.kurtosis(girls),2)))\n",
    "plt.axvline(x=mean_girl, color=sns.desaturate(\"indianred\", .8))\n",
>>>>>>> bbf58884b3af8672b087a65a61f27e8401a432ab
    "plt.show()\n"
   ]
  },
  {
   "cell_type": "code",
<<<<<<< HEAD
=======
   "execution_count": 15,
   "metadata": {
    "scrolled": false
   },
   "outputs": [
    {
     "data": {
      "image/png": "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\n",
      "text/plain": [
       "<Figure size 432x288 with 1 Axes>"
      ]
     },
     "metadata": {
      "needs_background": "light"
     },
     "output_type": "display_data"
    }
   ],
   "source": [
    "plt.hist(boys,alpha=.4)\n",
    "plt.hist(girls,color=sns.desaturate(\"indianred\", .8),alpha=.4)\n",
    "plt.title(\"all samples\")\n",
    "plt.axvline(x=mean_girl,color=sns.desaturate(\"indianred\", .8))\n",
    "plt.axvline(x=mean_boy)\n",
    "plt.show()"
   ]
  },
  {
   "cell_type": "markdown",
   "metadata": {},
   "source": [
    "Q1答案: 所以從分布看的出來，女生的平均身高較高，且資料較為集中，男生的資料較為分散。"
   ]
  },
  {
   "cell_type": "markdown",
   "metadata": {},
   "source": [
    "分別從分別為集中趨勢、離散程度和分布型態，和圖形比較這兩主資料"
   ]
  },
  {
   "cell_type": "code",
>>>>>>> bbf58884b3af8672b087a65a61f27e8401a432ab
   "execution_count": 16,
   "metadata": {},
   "outputs": [
    {
     "name": "stdout",
     "output_type": "stream",
     "text": [
      "男孩身高平均= 165.95\n",
      "女生身高平均= 168.3\n"
     ]
    }
   ],
   "source": [
    "#Q2: 請問男生和女生在平均身高上誰比較高? \n",
    "\n",
    "#男生平均身高\n",
    "mean_boy=np.mean(boys)\n",
    "print(\"男孩身高平均=\",mean_boy)\n",
    "\n",
    "#女生平均身高\n",
    "mean_girl = np.mean(girls)\n",
    "print(\"女生身高平均=\", mean_girl)\n",
<<<<<<< HEAD
    "#女生平均比男生平均高"
=======
    "#女生平均比男生高"
>>>>>>> bbf58884b3af8672b087a65a61f27e8401a432ab
   ]
  },
  {
   "cell_type": "code",
   "execution_count": null,
   "metadata": {
    "id": "xAzZU0Dv71GX",
    "outputId": "e2017c09-70fc-41ab-99c0-9d41fe21629d"
   },
   "outputs": [
    {
     "data": {
      "text/plain": [
       "'\\n你的答案\\n'"
      ]
     },
     "execution_count": 5,
     "metadata": {
      "tags": []
     },
     "output_type": "execute_result"
    }
   ],
   "source": [
    "#Q3:請問第二題的答案和日常生活中觀察的一致嗎? 如果不一致，你覺得原因可能為何? \n",
    "'''\n",
    "你的答案\n",
    "'''"
   ]
<<<<<<< HEAD
=======
  },
  {
   "cell_type": "markdown",
   "metadata": {},
   "source": [
    "#Q3:請問第二題的答案和日常生活中觀察的一致嗎? 如果不一致，你覺得原因可能為何?\n",
    "答案如下: 和日常的觀察不一致，\n",
    "有可能是抽樣上有誤差，此樣本和母體的特性差異比較大。\n",
    "在今天的課程中，也特別強調，\n",
    "樣本是種現象，但是這樣的現象不代表是真相，\n",
    "也就是你身邊的人月薪都很高，不代表全台灣的人月薪都很高的意思是一樣的唷。\n",
    "所以樣本的資料收集是很重要的，\n",
    "如何收集到好的資料，也是一門學問，\n",
    "有興趣的同學，可以研究抽樣方法。"
   ]
>>>>>>> bbf58884b3af8672b087a65a61f27e8401a432ab
  }
 ],
 "metadata": {
  "colab": {
   "collapsed_sections": [],
   "name": "作業.ipynb",
   "provenance": []
  },
  "kernelspec": {
   "display_name": "Python 3",
   "language": "python",
   "name": "python3"
  },
  "language_info": {
   "codemirror_mode": {
    "name": "ipython",
    "version": 3
   },
   "file_extension": ".py",
   "mimetype": "text/x-python",
   "name": "python",
   "nbconvert_exporter": "python",
   "pygments_lexer": "ipython3",
   "version": "3.8.5"
  }
 },
 "nbformat": 4,
 "nbformat_minor": 1
}
